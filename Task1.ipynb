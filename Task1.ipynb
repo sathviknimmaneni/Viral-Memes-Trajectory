{
 "cells": [
  {
   "cell_type": "code",
   "execution_count": 28,
   "metadata": {},
   "outputs": [],
   "source": [
    "import igraph as ig\n",
    "import pandas as pd\n",
    "import random\n",
    "import matplotlib.pyplot as plt\n",
    "import numpy as np\n",
    "%matplotlib inline\n",
    "\n",
    "df = pd.read_csv('facebook_combined.txt',sep=' ',names = ['a','b']) \n",
    "tuples = [tuple(x) for x in df.values]\n",
    "\n",
    "G = ig.Graph.TupleList(tuples)"
   ]
  },
  {
   "cell_type": "code",
   "execution_count": 29,
   "metadata": {},
   "outputs": [
    {
     "data": {
      "text/html": [
       "<div>\n",
       "<style scoped>\n",
       "    .dataframe tbody tr th:only-of-type {\n",
       "        vertical-align: middle;\n",
       "    }\n",
       "\n",
       "    .dataframe tbody tr th {\n",
       "        vertical-align: top;\n",
       "    }\n",
       "\n",
       "    .dataframe thead th {\n",
       "        text-align: right;\n",
       "    }\n",
       "</style>\n",
       "<table border=\"1\" class=\"dataframe\">\n",
       "  <thead>\n",
       "    <tr style=\"text-align: right;\">\n",
       "      <th></th>\n",
       "      <th>a</th>\n",
       "      <th>b</th>\n",
       "    </tr>\n",
       "  </thead>\n",
       "  <tbody>\n",
       "    <tr>\n",
       "      <th>0</th>\n",
       "      <td>0</td>\n",
       "      <td>1</td>\n",
       "    </tr>\n",
       "    <tr>\n",
       "      <th>1</th>\n",
       "      <td>0</td>\n",
       "      <td>2</td>\n",
       "    </tr>\n",
       "    <tr>\n",
       "      <th>2</th>\n",
       "      <td>0</td>\n",
       "      <td>3</td>\n",
       "    </tr>\n",
       "    <tr>\n",
       "      <th>3</th>\n",
       "      <td>0</td>\n",
       "      <td>4</td>\n",
       "    </tr>\n",
       "    <tr>\n",
       "      <th>4</th>\n",
       "      <td>0</td>\n",
       "      <td>5</td>\n",
       "    </tr>\n",
       "  </tbody>\n",
       "</table>\n",
       "</div>"
      ],
      "text/plain": [
       "   a  b\n",
       "0  0  1\n",
       "1  0  2\n",
       "2  0  3\n",
       "3  0  4\n",
       "4  0  5"
      ]
     },
     "execution_count": 29,
     "metadata": {},
     "output_type": "execute_result"
    }
   ],
   "source": [
    "df.head()"
   ]
  },
  {
   "cell_type": "code",
   "execution_count": 8,
   "metadata": {},
   "outputs": [],
   "source": [
    "K_shell = G.shell_index()"
   ]
  },
  {
   "cell_type": "code",
   "execution_count": 10,
   "metadata": {},
   "outputs": [],
   "source": [
    "Deg = G.degree()"
   ]
  },
  {
   "cell_type": "code",
   "execution_count": 48,
   "metadata": {},
   "outputs": [
    {
     "data": {
      "text/plain": [
       "Text(0, 0.5, 'Degree')"
      ]
     },
     "execution_count": 48,
     "metadata": {},
     "output_type": "execute_result"
    },
    {
     "data": {
      "image/png": "[encoded data removed]",
      "text/plain": [
       "<Figure size 432x288 with 1 Axes>"
      ]
     },
     "metadata": {
      "needs_background": "light"
     },
     "output_type": "display_data"
    }
   ],
   "source": [
    "plt.scatter(K_shell,Deg)\n",
    "plt.xlabel('No. of Shells')\n",
    "plt.ylabel('Degree')"
   ]
  },
  {
   "cell_type": "code",
   "execution_count": 52,
   "metadata": {},
   "outputs": [
    {
     "name": "stdout",
     "output_type": "stream",
     "text": [
      "[352, 1490, 2145, 2154, 2167, 2224, 2944, 2945, 2954, 2962, 2964, 2966, 2976, 2980, 2984, 2989, 2993, 2994, 2995, 2996, 3002, 3004, 3007, 3018, 3024, 3025, 3029, 3030, 3032, 3034, 3044, 3047, 3048, 3051, 3053, 3054, 3058, 3062, 3065, 3066, 3068, 3071, 3073, 3079, 3080, 3084, 3085, 3087, 3090, 3091, 3094, 3095, 3096, 3097, 3101, 3103, 3104, 3106, 3110, 3112, 3125, 3133, 3135, 3136, 3141, 3142, 3146, 3152, 3155, 3157, 3159, 3165, 3169, 3175, 3178, 3184, 3187, 3197, 3200, 3201, 3203, 3209, 3213, 3220, 3221, 3222, 3234, 3235, 3236, 3238, 3241, 3242, 3247, 3250, 3252, 3253, 3256, 3260, 3264, 3265, 3268, 3270, 3273, 3276, 3283, 3290, 3294, 3295, 3296, 3299, 3305, 3310, 3312, 3315, 3326, 3336, 3338, 3340, 3341, 3351, 3354, 3360, 3362, 3365, 3367, 3370, 3376, 3377, 3382, 3391, 3395, 3397, 3398, 3399, 3401, 3406, 3407, 3408, 3411, 3418, 3423, 3429, 3431, 3433, 3437, 3438, 3439, 3441, 3443, 3445, 3449, 3451, 3456, 3457, 3461, 3467, 3477, 3478]\n"
     ]
    }
   ],
   "source": [
    "s = []\n",
    "for x in G.vs.indices:\n",
    "    if K_shell[x] == max(K_shell):\n",
    "        s.append(x)\n",
    "print(s)"
   ]
  },
  {
   "cell_type": "code",
   "execution_count": 55,
   "metadata": {},
   "outputs": [
    {
     "name": "stdout",
     "output_type": "stream",
     "text": [
      "[107] 1045\n"
     ]
    }
   ],
   "source": [
    "d = []\n",
    "for x in G.vs.indices:\n",
    "    if Deg[x] == max(Deg):\n",
    "        d.append(x)\n",
    "print(d,Deg[d[0]])"
   ]
  },
  {
   "cell_type": "code",
   "execution_count": null,
   "metadata": {},
   "outputs": [],
   "source": []
  },
  {
   "cell_type": "markdown",
   "metadata": {},
   "source": [
    "# Random walk Algorithm"
   ]
  },
  {
   "cell_type": "code",
   "execution_count": 6,
   "metadata": {},
   "outputs": [
    {
     "name": "stdout",
     "output_type": "stream",
     "text": [
      "19\n",
      "[11, 0, 239, 104, 344, 257, 169, 165, 188, 272, 280, 271, 9, 119, 252, 66, 308, 136, 352]\n"
     ]
    }
   ],
   "source": [
    "import igraph as ig\n",
    "import random\n",
    "import pandas as pd\n",
    "\n",
    "df = pd.read_csv('facebook_combined.txt',sep=' ',names = ['a','b']) \n",
    "tuples = [tuple(x) for x in df.values]\n",
    "\n",
    "G = ig.Graph.TupleList(tuples)\n",
    "\n",
    "K = G.shell_index()\n",
    "D = G.degree()  #degree of nodes\n",
    "\n",
    "current = 11\n",
    "\n",
    "path = []\n",
    "path.append(current)\n",
    "while K[current]<max(K): \n",
    "    neighbor = G.neighbors(current)\n",
    "    ns = [x for x in neighbor if x not in path]\n",
    "    if len(ns) == 0:\n",
    "        print(\"core not reached\")\n",
    "        break\n",
    "    current = random.choice(ns)\n",
    "    path.append(current)\n",
    "print(len(path))\n",
    "print(path)"
   ]
  },
  {
   "cell_type": "code",
   "execution_count": null,
   "metadata": {},
   "outputs": [],
   "source": [
    "for x in path:   #plotting the final path\n",
    "    G.vs[x]['color'] = 'blue'\n",
    "ig.plot(G, vertex_label=list(range(36))).show()"
   ]
  },
  {
   "cell_type": "code",
   "execution_count": null,
   "metadata": {},
   "outputs": [],
   "source": []
  },
  {
   "cell_type": "markdown",
   "metadata": {},
   "source": [
    "# Degree based Hill climbing"
   ]
  },
  {
   "cell_type": "code",
   "execution_count": 44,
   "metadata": {},
   "outputs": [],
   "source": [
    "import igraph as ig\n",
    "import pandas as pd\n",
    "\n",
    "df = pd.read_csv('facebook_combined.txt',sep=' ',names = ['a','b']) \n",
    "\n",
    "tuples = [tuple(x) for x in df.values]\n",
    "G = ig.Graph.TupleList(tuples)\n",
    "D = G.degree()  #degree of nodes\n",
    "current = 11\n",
    "target = 352\n",
    "path = []\n",
    "path.append(current)\n",
    "while (current != target): \n",
    "    neighbor = G.neighbors(current)\n",
    "    ns = [x for x in neighbor if x not in path]\n",
    "    y=[]\n",
    "    for x in range(0,len(ns)): #finds nighbor's degree\n",
    "        y.append(D[ns[x]])\n",
    "    if y==[]:   #if node has no unvisted neighbors it breaks\n",
    "        break\n",
    "    i= y.index(max(y))  #finds the node with highest degree\n",
    "    current= ns[i]     \n",
    "    path.append(current)"
   ]
  },
  {
   "cell_type": "code",
   "execution_count": 45,
   "metadata": {},
   "outputs": [
    {
     "name": "stdout",
     "output_type": "stream",
     "text": [
      "237\n",
      "[11, 0, 107, 351, 2403, 2871, 2326, 2925, 2630, 2521, 2501, 2756, 2440, 2355, 2537, 2619, 2351, 2251, 2892, 2513, 2570, 2259, 2465, 2486, 2273, 2427, 2188, 2806, 2315, 2622, 2902, 2832, 2797, 2933, 2652, 2594, 2508, 2293, 2296, 2243, 2362, 2841, 2347, 2236, 2578, 2685, 2689, 2305, 2551, 2617, 2687, 2581, 2725, 2773, 2668, 2861, 2398, 2860, 2413, 2713, 2393, 2602, 2857, 2461, 2592, 2854, 2321, 2869, 2526, 2901, 2703, 2543, 2785, 2463, 2113, 2656, 2795, 2675, 2256, 2099, 2497, 2123, 2649, 2103, 2096, 2107, 2816, 2833, 2852, 2763, 2769, 2845, 2350, 2710, 2563, 2680, 2496, 2842, 2643, 2855, 2469, 2517, 2550, 2474, 2917, 2327, 2451, 2577, 2475, 2487, 2323, 2836, 2246, 2858, 2258, 2329, 2312, 2641, 2263, 2500, 2346, 2597, 2431, 2369, 2484, 2566, 2750, 2430, 2599, 2435, 2468, 2428, 2636, 2392, 2472, 2464, 2624, 2870, 2704, 2436, 2849, 2523, 2479, 2478, 2801, 2722, 2426, 2655, 2277, 2470, 2284, 2269, 2932, 2545, 2684, 2637, 2443, 2605, 2498, 2539, 2304, 2614, 2808, 2379, 2334, 2471, 2248, 2645, 2536, 2544, 2314, 2712, 2490, 2343, 2382, 2677, 2294, 2457, 2503, 2653, 2571, 2739, 2919, 2811, 2417, 2611, 2762, 2542, 2454, 2792, 2777, 2068, 2349, 2681, 2700, 2888, 2365, 2495, 2885, 2651, 2912, 2438, 2781, 2241, 2863, 2813, 2748, 2238, 2540, 2896, 2916, 2731, 2715, 2629, 2073, 2618, 2111, 2105, 891, 1098, 1373, 1285, 1149, 838, 1215, 917, 685, 1070, 1253, 572, 366, 348, 349, 362, 365, 350, 352]\n"
     ]
    }
   ],
   "source": [
    "print(len(path))\n",
    "print(path)"
   ]
  },
  {
   "cell_type": "code",
   "execution_count": 12,
   "metadata": {},
   "outputs": [],
   "source": [
    "for x in path:   #plotting the final path\n",
    "    G.vs[x]['color'] = 'blue'\n",
    "ig.plot(G, vertex_label=list(G.vs.indices)).show()"
   ]
  },
  {
   "cell_type": "code",
   "execution_count": null,
   "metadata": {},
   "outputs": [],
   "source": []
  },
  {
   "cell_type": "markdown",
   "metadata": {},
   "source": [
    "# Shell based hill climbing algorithm"
   ]
  },
  {
   "cell_type": "code",
   "execution_count": 38,
   "metadata": {},
   "outputs": [],
   "source": [
    "import igraph as ig\n",
    "import random\n",
    "import pandas as pd\n",
    "\n",
    "df = pd.read_csv('facebook_combined.txt',sep=' ',names = ['a','b']) \n",
    "\n",
    "tuples = [tuple(x) for x in df.values]\n",
    "G = ig.Graph.TupleList(tuples)\n",
    "\n",
    "K_shell = G.shell_index()\n",
    "Deg = G.degree()\n",
    "\n",
    "current = 11\n",
    "target = 352\n",
    "\n",
    "path = []\n",
    "path.append(current)\n",
    "\n",
    "while (current != target):\n",
    "    next_nodes = G.neighbors(current)\n",
    "    req = [x for x in next_nodes if x not in path]\n",
    "    y = [K_shell[x] for x in req]\n",
    "    if y == []:\n",
    "        print('Target No Reached')\n",
    "        break\n",
    "    i= y.index(max(y))\n",
    "    v = req[i]\n",
    "    current_shell = K_shell[current]\n",
    "    if (K_shell[v] <= current_shell):\n",
    "        rand = random.choice(req)\n",
    "        current = rand\n",
    "        path.append(current)\n",
    "    else:\n",
    "        current = v\n",
    "        path.append(current)"
   ]
  },
  {
   "cell_type": "code",
   "execution_count": 39,
   "metadata": {},
   "outputs": [
    {
     "name": "stdout",
     "output_type": "stream",
     "text": [
      "6\n",
      "[11, 0, 107, 595, 350, 352]\n"
     ]
    }
   ],
   "source": [
    "print(len(path))\n",
    "print(path)"
   ]
  },
  {
   "cell_type": "code",
   "execution_count": null,
   "metadata": {},
   "outputs": [],
   "source": []
  },
  {
   "cell_type": "markdown",
   "metadata": {},
   "source": [
    "# Intershell hill climbing with intra-degree based approach"
   ]
  },
  {
   "cell_type": "code",
   "execution_count": 34,
   "metadata": {},
   "outputs": [
    {
     "name": "stdout",
     "output_type": "stream",
     "text": [
      "Target No Reached\n"
     ]
    }
   ],
   "source": [
    "import igraph as ig\n",
    "import random\n",
    "import pandas as pd\n",
    "\n",
    "df = pd.read_csv('facebook_combined.txt',sep=' ',names = ['a','b']) \n",
    "\n",
    "tuples = [tuple(x) for x in df.values]\n",
    "G = ig.Graph.TupleList(tuples)\n",
    "\n",
    "K_shell = G.shell_index()\n",
    "Deg = G.degree()\n",
    "\n",
    "current = 11\n",
    "target = 352\n",
    "\n",
    "path = []\n",
    "path.append(current)\n",
    "\n",
    "while (current != target):\n",
    "    next_nodes = G.neighbors(current)\n",
    "    req = [x for x in next_nodes if x not in path]\n",
    "    y = [K_shell[x] for x in req]\n",
    "    if y == []:\n",
    "        print('Target No Reached')\n",
    "        break\n",
    "    i= y.index(max(y))\n",
    "    v = req[i]\n",
    "    current_shell = K_shell[current]\n",
    "    if (K_shell[v] <= current_shell):\n",
    "        y = [Deg[x] for x in req]\n",
    "        i = y.index(max(y))\n",
    "        current = req[i]\n",
    "        path.append(current)\n",
    "    else:\n",
    "        current = req[i]\n",
    "        path.append(current)"
   ]
  },
  {
   "cell_type": "code",
   "execution_count": 35,
   "metadata": {},
   "outputs": [
    {
     "name": "stdout",
     "output_type": "stream",
     "text": [
      "165\n",
      "[11, 0, 107, 351, 2403, 2871, 2326, 2925, 2630, 2521, 2501, 2756, 2440, 2355, 2537, 2619, 2351, 2251, 2892, 2513, 2570, 2259, 2465, 2486, 2273, 2427, 2188, 2806, 2315, 2622, 2902, 2832, 2099, 2797, 2933, 2652, 2594, 2236, 2296, 2243, 2362, 2293, 2393, 2347, 2841, 2508, 2656, 2689, 2398, 2578, 2685, 2581, 2413, 2617, 2668, 2773, 2725, 2611, 2687, 2861, 2713, 2256, 2860, 2542, 2602, 2526, 2592, 2461, 2497, 2854, 2321, 2653, 2269, 2550, 2517, 2327, 2917, 2474, 2451, 2577, 2475, 2487, 2323, 2836, 2246, 2858, 2258, 2329, 2312, 2428, 2346, 2469, 2597, 2500, 2369, 2431, 2566, 2484, 2750, 2430, 2599, 2435, 2468, 2641, 2277, 2636, 2263, 2426, 2471, 2472, 2392, 2464, 2624, 2248, 2704, 2870, 2443, 2479, 2523, 2849, 2436, 2470, 2722, 2801, 2478, 2684, 2545, 2536, 2498, 2284, 2527, 2645, 2637, 2655, 2457, 2605, 2382, 2343, 2583, 2677, 2539, 2932, 2606, 2712, 2334, 2260, 2322, 2590, 2544, 2304, 2379, 2614, 2808, 2314, 2502, 2745, 2573, 2569, 2693, 2316, 2456, 2490, 2625, 2294, 2771]\n"
     ]
    }
   ],
   "source": [
    "print(len(path))\n",
    "print(path)"
   ]
  },
  {
   "cell_type": "code",
   "execution_count": null,
   "metadata": {},
   "outputs": [],
   "source": []
  },
  {
   "cell_type": "markdown",
   "metadata": {},
   "source": [
    "# SA approach but with random node selection"
   ]
  },
  {
   "cell_type": "code",
   "execution_count": 26,
   "metadata": {},
   "outputs": [],
   "source": [
    "import igraph as ig\n",
    "import random\n",
    "import pandas as pd\n",
    "\n",
    "df = pd.read_csv('facebook_combined.txt',sep=' ',names = ['a','b']) \n",
    "\n",
    "tuples = [tuple(x) for x in df.values]\n",
    "G = ig.Graph.TupleList(tuples)\n",
    "\n",
    "K_shell = G.shell_index()\n",
    "Deg = G.degree()\n",
    "\n",
    "current = 11\n",
    "target = 352\n",
    "\n",
    "path = []\n",
    "path.append(current)\n",
    "\n",
    "while (current != target):\n",
    "    next_nodes = G.neighbors(current)\n",
    "    req = [x for x in next_nodes if x not in path]\n",
    "    if req == []:\n",
    "        print('Try again! Core not found')\n",
    "        break\n",
    "    max_shell = max([K_shell[x] for x in req])\n",
    "    current_shell = K_shell[current]\n",
    "    if (max_shell <= current_shell):\n",
    "        max_degree = max([Deg[x] for x in req])\n",
    "        rand = [x for x in req if Deg[x] == max_degree]\n",
    "        current = random.choice(rand)\n",
    "        path.append(current)\n",
    "    else:\n",
    "        rand = [x for x in req if K_shell[x] == max_shell]\n",
    "        current = random.choice(rand)\n",
    "        path.append(current)"
   ]
  },
  {
   "cell_type": "code",
   "execution_count": 31,
   "metadata": {},
   "outputs": [
    {
     "name": "stdout",
     "output_type": "stream",
     "text": [
      "238\n",
      "[11, 0, 107, 351, 2403, 2871, 2326, 2925, 2630, 2521, 2501, 2756, 2440, 2355, 2537, 2619, 2351, 2892, 2251, 2570, 2513, 2273, 2427, 2188, 2806, 2315, 2622, 2902, 2832, 2797, 2933, 2652, 2594, 2296, 2243, 2362, 2293, 2731, 2236, 2347, 2841, 2508, 2854, 2689, 2685, 2578, 2581, 2393, 2617, 2398, 2687, 2773, 2725, 2611, 2861, 2668, 2860, 2656, 2461, 2785, 2413, 2713, 2592, 2857, 2602, 2099, 2901, 2526, 2321, 2653, 2566, 2465, 2259, 2486, 2517, 2550, 2474, 2917, 2327, 2451, 2577, 2475, 2487, 2323, 2836, 2641, 2849, 2858, 2258, 2346, 2246, 2597, 2469, 2500, 2369, 2329, 2312, 2523, 2484, 2431, 2263, 2269, 2599, 2750, 2430, 2468, 2435, 2624, 2464, 2870, 2704, 2636, 2428, 2479, 2392, 2472, 2436, 2684, 2722, 2426, 2536, 2478, 2801, 2470, 2277, 2655, 2637, 2443, 2284, 2498, 2932, 2606, 2605, 2645, 2545, 2583, 2248, 2539, 2677, 2471, 2334, 2527, 2614, 2457, 2503, 2625, 2294, 2382, 2343, 2552, 2375, 2712, 2314, 2808, 2304, 2544, 2590, 2322, 2379, 2502, 2745, 2573, 2260, 2316, 2456, 2490, 2891, 2595, 2560, 2488, 2934, 2872, 2650, 2569, 2693, 2672, 2778, 2261, 2328, 2761, 2437, 2400, 2483, 2109, 891, 862, 1373, 1285, 1149, 838, 1215, 917, 685, 1070, 1253, 1075, 572, 366, 369, 1043, 1231, 1312, 612, 1289, 876, 1318, 863, 1098, 1107, 1199, 1045, 564, 1192, 1099, 1320, 885, 1096, 1108, 877, 697, 1037, 957, 411, 853, 432, 1324, 545, 1040, 1002, 670, 1298, 479, 671, 1221, 1284, 1008, 1203, 352]\n"
     ]
    }
   ],
   "source": [
    "print(len(path)),\n",
    "print(path)"
   ]
  }
 ],
 "metadata": {
  "kernelspec": {
   "display_name": "Python 3",
   "language": "python",
   "name": "python3"
  },
  "language_info": {
   "codemirror_mode": {
    "name": "ipython",
    "version": 3
   },
   "file_extension": ".py",
   "mimetype": "text/x-python",
   "name": "python",
   "nbconvert_exporter": "python",
   "pygments_lexer": "ipython3",
   "version": "3.7.3"
  }
 },
 "nbformat": 4,
 "nbformat_minor": 4
}
