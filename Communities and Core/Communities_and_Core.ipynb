{
 "cells": [
  {
   "cell_type": "code",
   "execution_count": null,
   "metadata": {},
   "outputs": [],
   "source": [
    "import igraph as ig\n",
    "import pandas as pd\n",
    "import matplotlib.pyplot as plt\n",
    "import numpy as np\n",
    "import collections"
   ]
  },
  {
   "cell_type": "markdown",
   "metadata": {},
   "source": [
    "## Facebook data"
   ]
  },
  {
   "cell_type": "code",
   "execution_count": null,
   "metadata": {},
   "outputs": [],
   "source": [
    "df = pd.read_csv('facebook_combined.txt',sep=' ',names = ['a','b'])\n",
    "\n",
    "tuples = [tuple(x) for x in df.values]\n",
    "G = ig.Graph.TupleList(tuples)"
   ]
  },
  {
   "cell_type": "markdown",
   "metadata": {},
   "source": [
    "## Karate data"
   ]
  },
  {
   "cell_type": "code",
   "execution_count": null,
   "metadata": {},
   "outputs": [],
   "source": [
    "G = ig.read('karate.gml')"
   ]
  },
  {
   "cell_type": "markdown",
   "metadata": {},
   "source": [
    "## Deezer europe network"
   ]
  },
  {
   "cell_type": "code",
   "execution_count": null,
   "metadata": {},
   "outputs": [],
   "source": [
    "test = pd.read_csv('deezer_europe_edges.csv',sep=',')\n",
    "\n",
    "tuples = [tuple(x) for x in test.values]\n",
    "G = ig.Graph.TupleList(tuples)"
   ]
  },
  {
   "cell_type": "markdown",
   "metadata": {},
   "source": [
    "## Pre-processing"
   ]
  },
  {
   "cell_type": "code",
   "execution_count": null,
   "metadata": {},
   "outputs": [],
   "source": [
    "K = G.shell_index()\n",
    "G.vs['shell'] = K"
   ]
  },
  {
   "cell_type": "code",
   "execution_count": null,
   "metadata": {},
   "outputs": [],
   "source": [
    "nodes = []\n",
    "for x in G.vs.indices:\n",
    "    nodes.append(x)\n",
    "    \n",
    "global_core = [x for x in nodes if K[x] == max(K)]\n",
    "global_code_name = [x['name'] for x in G.vs if x['shell'] == max(K)]"
   ]
  },
  {
   "cell_type": "code",
   "execution_count": null,
   "metadata": {},
   "outputs": [],
   "source": [
    "clus = G.community_multilevel()\n",
    "G.modularity(clus.membership)"
   ]
  },
  {
   "cell_type": "code",
   "execution_count": null,
   "metadata": {},
   "outputs": [],
   "source": [
    "comm_count = 0\n",
    "for x in [i for i in G.community_multilevel()]:\n",
    "    comm_count += 1\n",
    "    for node in x:\n",
    "        G.vs[node]['community'] = comm_count\n",
    "# comm_count"
   ]
  },
  {
   "cell_type": "code",
   "execution_count": null,
   "metadata": {},
   "outputs": [],
   "source": [
    "count =0\n",
    "fData = dict()\n",
    "for num in range(1,comm_count+1): \n",
    "    data = dict()\n",
    "    count += 1\n",
    "    for i in [i for i in G.vs if i['community'] == num]:\n",
    "        data[i['shell']] = data.get(i['shell'], 0) + 1\n",
    "        fData[count] = data"
   ]
  },
  {
   "cell_type": "code",
   "execution_count": null,
   "metadata": {},
   "outputs": [],
   "source": [
    "def avg_shell(x):\n",
    "    sum_s=0\n",
    "    sum_w=0\n",
    "    for j in range(0,len(x)):\n",
    "        sum_s=sum_s+x[j][0]*x[j][1]\n",
    "        sum_w=sum_w+x[j][1]\n",
    "    return(sum_s/sum_w)"
   ]
  },
  {
   "cell_type": "code",
   "execution_count": null,
   "metadata": {},
   "outputs": [],
   "source": [
    "def std_div(x):\n",
    "    deviations=0\n",
    "    sum_e=0\n",
    "    for i in range(0,len(x)):\n",
    "        deviations = deviations + (((x[i][0] - avg_shell(x)) ** 2)*x[i][1] )\n",
    "        sum_e=sum_e+x[i][1]\n",
    "    variance = deviations / sum_e\n",
    "    return((variance)**(1/2))"
   ]
  },
  {
   "cell_type": "code",
   "execution_count": null,
   "metadata": {},
   "outputs": [],
   "source": [
    "def dispersion(x):\n",
    "    return(((std_div(x))**2)/avg_shell(x))"
   ]
  },
  {
   "cell_type": "code",
   "execution_count": null,
   "metadata": {},
   "outputs": [],
   "source": [
    "def com_size(x):\n",
    "    a=0\n",
    "    for i in range(0,len(x)):\n",
    "        a=a+x[i][1]\n",
    "    return(a)"
   ]
  },
  {
   "cell_type": "markdown",
   "metadata": {},
   "source": [
    "## Entropy"
   ]
  },
  {
   "cell_type": "code",
   "execution_count": null,
   "metadata": {},
   "outputs": [],
   "source": [
    "def getEntropy(i):\n",
    "    test = [j for i,j in fData[i].items()]\n",
    "    l = sum(test)\n",
    "    tmp = []\n",
    "    for i in test:\n",
    "        dum = i/l\n",
    "        tmp.append( dum * np.log2(dum))\n",
    "    return -sum(tmp)\n",
    "Entropy = [getEntropy(i) for i in range(1,comm_count+1)]"
   ]
  },
  {
   "cell_type": "markdown",
   "metadata": {},
   "source": [
    "## Influence measure"
   ]
  },
  {
   "cell_type": "code",
   "execution_count": null,
   "metadata": {},
   "outputs": [],
   "source": [
    "def getInfluence(commno):\n",
    "    tmp = []\n",
    "    for t in list(fData[commno].keys()):\n",
    "        tmp.append(len([i for i in G.vs.indices if K[i] == t]))\n",
    "\n",
    "    val = list(fData[commno].values())\n",
    "    shel = list(fData[commno].keys())\n",
    "\n",
    "    sumt= []\n",
    "    for i in range(len(tmp)):\n",
    "        sumt.append(shel[i]*val[i]/tmp[i])\n",
    "    return sum(sumt)\n",
    "Influence = [getInfluence(i) for i in range(1,comm_count+1)]"
   ]
  },
  {
   "cell_type": "markdown",
   "metadata": {},
   "source": [
    "## Writing data into dataframe"
   ]
  },
  {
   "cell_type": "code",
   "execution_count": null,
   "metadata": {},
   "outputs": [],
   "source": [
    "data=[]\n",
    "for i in range(1,len(fData)+1):\n",
    "    od = collections.OrderedDict(sorted(fData[i].items()))\n",
    "    od = list(od.items())\n",
    "    data.append([i,com_size(od),avg_shell(od),std_div(od),dispersion(od)])\n",
    "d = pd.DataFrame(data,columns=[\"comm_no\",\"comm_size\",\"mean\",\"std_dev\",\"dispersion\"])"
   ]
  },
  {
   "cell_type": "code",
   "execution_count": null,
   "metadata": {},
   "outputs": [],
   "source": [
    "# Adding entropy to the dataframe\n",
    "d['Entropy'] = Entropy\n",
    "d['Influence'] = Influence"
   ]
  },
  {
   "cell_type": "code",
   "execution_count": null,
   "metadata": {},
   "outputs": [],
   "source": [
    "d.sort_values('comm_size')"
   ]
  },
  {
   "cell_type": "code",
   "execution_count": null,
   "metadata": {},
   "outputs": [],
   "source": [
    "# d.to_excel('Results_dr.xlsx',sheet_name='Sheet1')"
   ]
  },
  {
   "cell_type": "markdown",
   "metadata": {},
   "source": [
    "## Shells vs Community nos along with their mean"
   ]
  },
  {
   "cell_type": "code",
   "execution_count": null,
   "metadata": {},
   "outputs": [],
   "source": [
    "X = [len(j) for i,j in fData.items()]\n",
    "Y = list(fData.keys())\n",
    "\n",
    "X_1 = list(d['mean'])\n",
    "X_1 = [i**4 for i in X_1]"
   ]
  },
  {
   "cell_type": "code",
   "execution_count": null,
   "metadata": {},
   "outputs": [],
   "source": [
    "plt.figure(figsize=(10,7))\n",
    "plt.scatter(X,Y,s=X_1)\n",
    "# plt.scatter(X_1,Y)\n",
    "plt.yticks(Y)\n",
    "plt.xlabel('No of Shells covered')\n",
    "plt.ylabel('Community Number')\n",
    "# plt.legend(['No of Shells','Mean Shell Number'])\n",
    "plt.savefig('ShellsCovered_vs_CommunityNo.jpg')"
   ]
  },
  {
   "cell_type": "markdown",
   "metadata": {},
   "source": [
    "## No of nodes in each shell"
   ]
  },
  {
   "cell_type": "code",
   "execution_count": null,
   "metadata": {},
   "outputs": [],
   "source": [
    "comm_num1 = 13\n",
    "comm_num2 = 4\n",
    "od_1 = collections.OrderedDict(sorted(fData[comm_num1].items()))\n",
    "od_2 = collections.OrderedDict(sorted(fData[comm_num2].items()))\n",
    "\n",
    "X1 = list(od_1.keys())\n",
    "X2 = list(od_2.keys())\n",
    "Y1 = list(od_1.values())\n",
    "Y2 = list(od_2.values())\n",
    "\n",
    "plt.figure(figsize=(10,5))\n",
    "plt.xlabel('Shell Number')\n",
    "plt.ylabel('Number of Nodes')\n",
    "plt.plot(X1,Y1,label='Community_13')\n",
    "plt.plot(X2,Y2,label='Community_4')\n",
    "plt.legend()\n",
    "plt.savefig('NodesinEachShell_Comapre.jpg')"
   ]
  },
  {
   "cell_type": "markdown",
   "metadata": {},
   "source": [
    "## Avg shell no vs Dispersion Index"
   ]
  },
  {
   "cell_type": "code",
   "execution_count": null,
   "metadata": {},
   "outputs": [],
   "source": [
    "X = list(d['dispersion'])\n",
    "Y = list(d['mean'])\n",
    "A = list(d['comm_size'])\n",
    "A = [i for i in A]\n",
    "colors = np.random.rand(16)\n",
    "\n",
    "plt.figure(figsize=(10,5))\n",
    "plt.xlabel('Dispersion Index')\n",
    "plt.ylabel('Average Shell Number')\n",
    "plt.scatter(X,Y,s=A, c=colors, alpha=0.5)\n",
    "plt.savefig('DispersionIndex_vs_AverageShellNumber.jpg')"
   ]
  },
  {
   "cell_type": "markdown",
   "metadata": {},
   "source": [
    "## Community Size vs Community No"
   ]
  },
  {
   "cell_type": "code",
   "execution_count": null,
   "metadata": {},
   "outputs": [],
   "source": [
    "X = list(d['comm_size'])\n",
    "Y = list(d['comm_no'])\n",
    "A = list(d['mean'])\n",
    "A = [i**4 for i in A]\n",
    "plt.figure(figsize=(10,5))\n",
    "plt.scatter(X,Y,s=A)\n",
    "plt.xlabel('Community Size')\n",
    "plt.ylabel('Community Number')\n",
    "plt.savefig('CommunitynoVSCommunitySize.jpg')"
   ]
  },
  {
   "cell_type": "markdown",
   "metadata": {},
   "source": [
    "## Shell_num vs no of nodes (for a particular community)"
   ]
  },
  {
   "cell_type": "code",
   "execution_count": null,
   "metadata": {},
   "outputs": [],
   "source": [
    "# comm_num = 8\n",
    "\n",
    "od = collections.OrderedDict(sorted(fData[comm_num].items()))\n",
    "X = list(od.keys())\n",
    "Y = list(od.values())"
   ]
  },
  {
   "cell_type": "code",
   "execution_count": null,
   "metadata": {},
   "outputs": [],
   "source": [
    "plt.figure(figsize=(8,5))\n",
    "plt.plot(X,Y)\n",
    "plt.xlabel('Shell Number')\n",
    "plt.ylabel('Number of Nodes')\n",
    "plt.savefig('ShellNumVSNumOfNodes.jpg')"
   ]
  },
  {
   "cell_type": "markdown",
   "metadata": {},
   "source": [
    "## Shell num vs % of nodes present in the shell"
   ]
  },
  {
   "cell_type": "code",
   "execution_count": null,
   "metadata": {},
   "outputs": [],
   "source": [
    "def getPlot(fData,i):\n",
    "    od = collections.OrderedDict(sorted(fData[i].items()))\n",
    "    od = list(od.items())\n",
    "    \n",
    "    shell_len = dict()\n",
    "    for k in list(set(K)):\n",
    "        shell_len[k] = len([i for i in G.vs if i['shell'] == k])\n",
    "    \n",
    "    r=[]\n",
    "    for i in range(0,len(od)):\n",
    "        r.append([od[i][0],(od[i][1])/shell_len[od[i][0]]])\n",
    "        \n",
    "    tmp = [i for i,j in r if j == 1]\n",
    "    R = [(i,j) for i,j in r if i not in tmp]\n",
    "    \n",
    "    x = [i for i,j in R]\n",
    "    y = [j for i,j in R]\n",
    "    plt.figure(figsize=(15,5))\n",
    "    plt.xticks(x,rotation=90)\n",
    "    plt.xlabel('Shell Number')\n",
    "    plt.ylabel('Fraction of nodes present')\n",
    "#     plt.show()\n",
    "    p = plt.plot(x,y)\n",
    "    plt.savefig('test.{}.jpg'.format(i))\n",
    "    return p"
   ]
  },
  {
   "cell_type": "code",
   "execution_count": null,
   "metadata": {},
   "outputs": [],
   "source": [
    "getPlot(fData,4)\n",
    "# getPlot(fData,8)"
   ]
  },
  {
   "cell_type": "markdown",
   "metadata": {},
   "source": [
    "## Simple Graph"
   ]
  },
  {
   "cell_type": "code",
   "execution_count": null,
   "metadata": {},
   "outputs": [],
   "source": [
    "def getSPlot(fData,i):\n",
    "    od = collections.OrderedDict(sorted(fData[i].items()))\n",
    "    od = list(od.items())\n",
    "    \n",
    "    shell_len = dict()\n",
    "    for k in list(set(K)):\n",
    "        shell_len[k] = len([i for i in G.vs if i['shell'] == k])\n",
    "    \n",
    "    r=[]\n",
    "    for i in range(0,len(od)):\n",
    "        r.append([od[i][0],(od[i][1])/shell_len[od[i][0]]])\n",
    "\n",
    "    x = [i for i,j in r]\n",
    "    y = [j for i,j in r]\n",
    "    plt.figure(figsize=(15,7))\n",
    "    plt.xlabel('Shell Number')\n",
    "    plt.ylabel('Fraction of nodes present')\n",
    "    plt.xticks(x)\n",
    "#     plt.show()\n",
    "    p = plt.plot(x,y)\n",
    "    \n",
    "    plt.savefig('testplot3.jpg')\n",
    "    return p"
   ]
  },
  {
   "cell_type": "code",
   "execution_count": null,
   "metadata": {},
   "outputs": [],
   "source": [
    "getSPlot(fData,3)"
   ]
  },
  {
   "cell_type": "markdown",
   "metadata": {},
   "source": [
    "## Community Number vs Entropy"
   ]
  },
  {
   "cell_type": "code",
   "execution_count": null,
   "metadata": {},
   "outputs": [],
   "source": [
    "Y = list(d['comm_no'])\n",
    "X = list(d['Entropy'])\n",
    "A = list(d['Influence'])\n",
    "A = [i*10 for i in A]\n",
    "colors = np.random.rand(comm_count)\n",
    "plt.figure(figsize=(15,7))\n",
    "plt.scatter(X,Y,s=A,c=colors,alpha=0.5)\n",
    "plt.xlabel('Entropy')\n",
    "plt.ylabel('Community Number')\n",
    "plt.savefig('EntropyVSCommno_Dezzer.jpg')"
   ]
  },
  {
   "cell_type": "markdown",
   "metadata": {},
   "source": [
    "## Entropy vs Mean shell number"
   ]
  },
  {
   "cell_type": "code",
   "execution_count": null,
   "metadata": {},
   "outputs": [],
   "source": [
    "X = list(d['Entropy'])\n",
    "Y = list(d['mean'])\n",
    "plt.figure(figsize=(12,7))\n",
    "plt.scatter(X,Y)\n",
    "plt.xlabel('Entropy')\n",
    "plt.ylabel('Weighted Mean')\n",
    "plt.savefig('EntropyVSMeanShell_deezer.jpg')"
   ]
  },
  {
   "cell_type": "markdown",
   "metadata": {},
   "source": [
    "## Jaccard coefficient"
   ]
  },
  {
   "cell_type": "code",
   "execution_count": null,
   "metadata": {},
   "outputs": [],
   "source": [
    "def common_elements(a,b):\n",
    "    a.sort()\n",
    "    b.sort()\n",
    "    i,j=0,0\n",
    "    intersection=[ ]\n",
    "    while i<len(a) and j<len(b):\n",
    "        if a[i] == b[j]:\n",
    "            intersection.append(a[i])\n",
    "            i=i+1\n",
    "            j=j+1\n",
    "        elif a[i]<b[j]:\n",
    "            i=i+1\n",
    "        else:\n",
    "            j=j+1\n",
    "    return(len(intersection))"
   ]
  },
  {
   "cell_type": "code",
   "execution_count": null,
   "metadata": {},
   "outputs": [],
   "source": [
    "jaccard = []\n",
    "for i in range(0,comm_count):\n",
    "    G_comm = G.subgraph(G.community_multilevel()[i])\n",
    "    K_local = G_comm.shell_index()\n",
    "    nodes_local = []\n",
    "    for x in G_comm.vs:\n",
    "        nodes_local.append(x)\n",
    "    local_core = [x['name'] for x in nodes_local if K_local[x.index] == max(K_local)]\n",
    "    U = len(global_code_name)\n",
    "    V = len(local_core)\n",
    "    intersection = common_elements(global_code_name,local_core)\n",
    "    union = U + V - intersection\n",
    "    jaccard.append(intersection/union)"
   ]
  },
  {
   "cell_type": "markdown",
   "metadata": {},
   "source": [
    "## Global core and Local core properties"
   ]
  },
  {
   "cell_type": "code",
   "execution_count": null,
   "metadata": {},
   "outputs": [],
   "source": [
    "fraction_of_community_nodes_in_local_core=[]\n",
    "fraction_of_community_nodes_in_gobal_core=[]\n",
    "fraction_of_global_core_in_local_core=[]\n",
    "fraction_of_local_core_in_global_core=[]\n",
    "\n",
    "for i in range(0,comm_count):\n",
    "    G_comm = G.subgraph(G.community_multilevel()[i])\n",
    "    K_local = G_comm.shell_index()\n",
    "    G_comm.vs['shell'] = K_local\n",
    "    nodes_local = []\n",
    "    for y in G_comm.vs.indices:\n",
    "        nodes_local.append(y)\n",
    "    local_core = [G.community_multilevel()[i][x] for x in nodes_local if K_local[x] == max(K_local)]\n",
    "    fraction_of_community_nodes_in_local_core.append(round(len(local_core)/len(G.community_multilevel()[i]),3))\n",
    "    fraction_of_community_nodes_in_gobal_core.append(round(len(list(set(G.community_multilevel()[i]).intersection(global_core)))/len(G.community_multilevel()[i]),3))\n",
    "    fraction_of_global_core_in_local_core.append(round(len(list(set(local_core).intersection(global_core)))/len(global_core),3))\n",
    "    fraction_of_local_core_in_global_core.append(round(len(list(set(local_core).intersection(global_core)))/len(local_core),3))"
   ]
  },
  {
   "cell_type": "code",
   "execution_count": null,
   "metadata": {},
   "outputs": [],
   "source": [
    "data=[]\n",
    "for i in range(0,comm_count):    \n",
    "    data.append([jaccard[i],fraction_of_community_nodes_in_local_core[i],fraction_of_community_nodes_in_gobal_core[i],fraction_of_global_core_in_local_core[i],fraction_of_local_core_in_global_core[i]])     \n",
    "d = pd.DataFrame(data,columns=[\"jaccard\",\"fract_comm_local\",\"fract_comm_gobal\",\"fract_global_local\",\"fract_local_global\"])\n",
    "d.to_excel('task2_deezer.xlsx',sheet_name='Sheet1')"
   ]
  },
  {
   "cell_type": "code",
   "execution_count": null,
   "metadata": {},
   "outputs": [],
   "source": [
    "d"
   ]
  }
 ],
 "metadata": {
  "kernelspec": {
   "display_name": "Python 3",
   "language": "python",
   "name": "python3"
  },
  "language_info": {
   "codemirror_mode": {
    "name": "ipython",
    "version": 3
   },
   "file_extension": ".py",
   "mimetype": "text/x-python",
   "name": "python",
   "nbconvert_exporter": "python",
   "pygments_lexer": "ipython3",
   "version": "3.7.9"
  }
 },
 "nbformat": 4,
 "nbformat_minor": 4
}
