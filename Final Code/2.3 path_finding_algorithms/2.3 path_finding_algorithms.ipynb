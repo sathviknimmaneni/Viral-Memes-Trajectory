{
 "cells": [
  {
   "cell_type": "code",
   "execution_count": null,
   "metadata": {},
   "outputs": [],
   "source": [
    "import igraph as ig\n",
    "import pandas as pd\n",
    "import random\n",
    "import matplotlib.pyplot as plt\n",
    "import numpy as np\n",
    "%matplotlib inline\n",
    "\n",
    "df = pd.read_csv('facebook_combined.txt',sep=' ',names = ['a','b']) \n",
    "tuples = [tuple(x) for x in df.values]\n",
    "\n",
    "G = ig.Graph.TupleList(tuples)"
   ]
  },
  {
   "cell_type": "code",
   "execution_count": null,
   "metadata": {},
   "outputs": [],
   "source": [
    "K_shell = G.shell_index()"
   ]
  },
  {
   "cell_type": "code",
   "execution_count": null,
   "metadata": {},
   "outputs": [],
   "source": [
    "Deg = G.degree()"
   ]
  },
  {
   "cell_type": "markdown",
   "metadata": {},
   "source": [
    "# Random walk Algorithm"
   ]
  },
  {
   "cell_type": "code",
   "execution_count": null,
   "metadata": {},
   "outputs": [],
   "source": [
    "import igraph as ig\n",
    "import random\n",
    "import pandas as pd\n",
    "\n",
    "df = pd.read_csv('facebook_combined.txt',sep=' ',names = ['a','b']) \n",
    "tuples = [tuple(x) for x in df.values]\n",
    "\n",
    "G = ig.Graph.TupleList(tuples)\n",
    "\n",
    "K = G.shell_index()\n",
    "D = G.degree()  #degree of nodes\n",
    "\n",
    "current = 11\n",
    "\n",
    "path = []\n",
    "path.append(current)\n",
    "while K[current]<max(K): \n",
    "    neighbor = G.neighbors(current)\n",
    "    ns = [x for x in neighbor if x not in path]\n",
    "    if len(ns) == 0:\n",
    "        print(\"core not reached\")\n",
    "        break\n",
    "    current = random.choice(ns)\n",
    "    path.append(current)\n",
    "print(len(path))\n",
    "print(path)"
   ]
  },
  {
   "cell_type": "code",
   "execution_count": null,
   "metadata": {},
   "outputs": [],
   "source": [
    "for x in path:   #plotting the final path\n",
    "    G.vs[x]['color'] = 'blue'\n",
    "ig.plot(G, vertex_label=list(range(36))).show()"
   ]
  },
  {
   "cell_type": "markdown",
   "metadata": {},
   "source": [
    "# Degree based Hill climbing"
   ]
  },
  {
   "cell_type": "code",
   "execution_count": null,
   "metadata": {},
   "outputs": [],
   "source": [
    "import igraph as ig\n",
    "import pandas as pd\n",
    "\n",
    "df = pd.read_csv('facebook_combined.txt',sep=' ',names = ['a','b']) \n",
    "\n",
    "tuples = [tuple(x) for x in df.values]\n",
    "G = ig.Graph.TupleList(tuples)\n",
    "D = G.degree()  #degree of nodes\n",
    "current = 11\n",
    "target = 352\n",
    "path = []\n",
    "path.append(current)\n",
    "while (current != target): \n",
    "    neighbor = G.neighbors(current)\n",
    "    ns = [x for x in neighbor if x not in path]\n",
    "    y=[]\n",
    "    for x in range(0,len(ns)): #finds nighbor's degree\n",
    "        y.append(D[ns[x]])\n",
    "    if y==[]:   #if node has no unvisted neighbors it breaks\n",
    "        break\n",
    "    i= y.index(max(y))  #finds the node with highest degree\n",
    "    current= ns[i]     \n",
    "    path.append(current)"
   ]
  },
  {
   "cell_type": "code",
   "execution_count": null,
   "metadata": {},
   "outputs": [],
   "source": [
    "print(len(path))\n",
    "print(path)"
   ]
  },
  {
   "cell_type": "code",
   "execution_count": null,
   "metadata": {},
   "outputs": [],
   "source": [
    "for x in path:   #plotting the final path\n",
    "    G.vs[x]['color'] = 'blue'\n",
    "ig.plot(G, vertex_label=list(G.vs.indices)).show()"
   ]
  },
  {
   "cell_type": "markdown",
   "metadata": {},
   "source": [
    "# Shell based hill climbing algorithm"
   ]
  },
  {
   "cell_type": "code",
   "execution_count": null,
   "metadata": {},
   "outputs": [],
   "source": [
    "import igraph as ig\n",
    "import random\n",
    "import pandas as pd\n",
    "\n",
    "df = pd.read_csv('facebook_combined.txt',sep=' ',names = ['a','b']) \n",
    "\n",
    "tuples = [tuple(x) for x in df.values]\n",
    "G = ig.Graph.TupleList(tuples)\n",
    "\n",
    "K_shell = G.shell_index()\n",
    "Deg = G.degree()\n",
    "\n",
    "current = 11\n",
    "target = 352\n",
    "\n",
    "path = []\n",
    "path.append(current)\n",
    "\n",
    "while (current != target):\n",
    "    next_nodes = G.neighbors(current)\n",
    "    req = [x for x in next_nodes if x not in path]\n",
    "    y = [K_shell[x] for x in req]\n",
    "    if y == []:\n",
    "        print('Target No Reached')\n",
    "        break\n",
    "    i= y.index(max(y))\n",
    "    v = req[i]\n",
    "    current_shell = K_shell[current]\n",
    "    if (K_shell[v] <= current_shell):\n",
    "        rand = random.choice(req)\n",
    "        current = rand\n",
    "        path.append(current)\n",
    "    else:\n",
    "        current = v\n",
    "        path.append(current)"
   ]
  },
  {
   "cell_type": "code",
   "execution_count": null,
   "metadata": {},
   "outputs": [],
   "source": [
    "print(len(path))\n",
    "print(path)"
   ]
  },
  {
   "cell_type": "markdown",
   "metadata": {},
   "source": [
    "# Intershell hill climbing with intra-degree based approach"
   ]
  },
  {
   "cell_type": "code",
   "execution_count": null,
   "metadata": {},
   "outputs": [],
   "source": [
    "import igraph as ig\n",
    "import random\n",
    "import pandas as pd\n",
    "\n",
    "df = pd.read_csv('facebook_combined.txt',sep=' ',names = ['a','b']) \n",
    "\n",
    "tuples = [tuple(x) for x in df.values]\n",
    "G = ig.Graph.TupleList(tuples)\n",
    "\n",
    "K_shell = G.shell_index()\n",
    "Deg = G.degree()\n",
    "\n",
    "current = 11\n",
    "target = 352\n",
    "\n",
    "path = []\n",
    "path.append(current)\n",
    "\n",
    "while (current != target):\n",
    "    next_nodes = G.neighbors(current)\n",
    "    req = [x for x in next_nodes if x not in path]\n",
    "    y = [K_shell[x] for x in req]\n",
    "    if y == []:\n",
    "        print('Target No Reached')\n",
    "        break\n",
    "    i= y.index(max(y))\n",
    "    v = req[i]\n",
    "    current_shell = K_shell[current]\n",
    "    if (K_shell[v] <= current_shell):\n",
    "        y = [Deg[x] for x in req]\n",
    "        i = y.index(max(y))\n",
    "        current = req[i]\n",
    "        path.append(current)\n",
    "    else:\n",
    "        current = req[i]\n",
    "        path.append(current)"
   ]
  },
  {
   "cell_type": "code",
   "execution_count": null,
   "metadata": {},
   "outputs": [],
   "source": [
    "print(len(path))\n",
    "print(path)"
   ]
  },
  {
   "cell_type": "markdown",
   "metadata": {},
   "source": [
    "# SA approach but with random node selection"
   ]
  },
  {
   "cell_type": "code",
   "execution_count": null,
   "metadata": {},
   "outputs": [],
   "source": [
    "import igraph as ig\n",
    "import random\n",
    "import pandas as pd\n",
    "\n",
    "df = pd.read_csv('facebook_combined.txt',sep=' ',names = ['a','b']) \n",
    "\n",
    "tuples = [tuple(x) for x in df.values]\n",
    "G = ig.Graph.TupleList(tuples)\n",
    "\n",
    "K_shell = G.shell_index()\n",
    "Deg = G.degree()\n",
    "\n",
    "current = 11\n",
    "target = 352\n",
    "\n",
    "path = []\n",
    "path.append(current)\n",
    "\n",
    "while (current != target):\n",
    "    next_nodes = G.neighbors(current)\n",
    "    req = [x for x in next_nodes if x not in path]\n",
    "    if req == []:\n",
    "        print('Try again! Core not found')\n",
    "        break\n",
    "    max_shell = max([K_shell[x] for x in req])\n",
    "    current_shell = K_shell[current]\n",
    "    if (max_shell <= current_shell):\n",
    "        max_degree = max([Deg[x] for x in req])\n",
    "        rand = [x for x in req if Deg[x] == max_degree]\n",
    "        current = random.choice(rand)\n",
    "        path.append(current)\n",
    "    else:\n",
    "        rand = [x for x in req if K_shell[x] == max_shell]\n",
    "        current = random.choice(rand)\n",
    "        path.append(current)"
   ]
  },
  {
   "cell_type": "code",
   "execution_count": null,
   "metadata": {},
   "outputs": [],
   "source": [
    "print(len(path)),\n",
    "print(path)"
   ]
  }
 ],
 "metadata": {
  "kernelspec": {
   "display_name": "Python 3",
   "language": "python",
   "name": "python3"
  },
  "language_info": {
   "codemirror_mode": {
    "name": "ipython",
    "version": 3
   },
   "file_extension": ".py",
   "mimetype": "text/x-python",
   "name": "python",
   "nbconvert_exporter": "python",
   "pygments_lexer": "ipython3",
   "version": "3.8.3"
  }
 },
 "nbformat": 4,
 "nbformat_minor": 4
}
