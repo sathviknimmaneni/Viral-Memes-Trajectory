{
 "cells": [
  {
   "cell_type": "code",
   "execution_count": null,
   "metadata": {},
   "outputs": [],
   "source": [
    "import igraph as ig\n",
    "import pandas as pd\n",
    "import random\n",
    "import numpy as np\n",
    "import xlwt \n",
    "from xlwt import Workbook "
   ]
  },
  {
   "cell_type": "code",
   "execution_count": null,
   "metadata": {},
   "outputs": [],
   "source": [
    "df = pd.read_csv('facebook_combined.txt',sep=' ',names = ['a','b'])\n",
    "\n",
    "tuples = [tuple(x) for x in df.values]\n",
    "G = ig.Graph.TupleList(tuples)"
   ]
  },
  {
   "cell_type": "code",
   "execution_count": null,
   "metadata": {},
   "outputs": [],
   "source": [
    "k = G.shell_index() #get shell indices for all nodes in G\n",
    "D = G.degree() #get degree of each node in G"
   ]
  },
  {
   "cell_type": "code",
   "execution_count": null,
   "metadata": {},
   "outputs": [],
   "source": [
    "# returns cascading power i.e, number of nodes infected at the end of the process\n",
    "def ic(G,seed):\n",
    "    jst_inf = list(seed)\n",
    "    infected = list(seed)\n",
    "    itera = 0\n",
    "    while(len(jst_inf) != 0): #breaks the loop when there are no further nodes to move forward\n",
    "        tmp = []\n",
    "        for each in jst_inf:\n",
    "            for each1 in G.neighbors(each): #gets the neighbor nodes for every node in jst_inf\n",
    "                r = random.uniform(0,1) #generates a random number between [0,1)\n",
    "                if r<0.5 and each1 not in infected and each1 not in tmp:\n",
    "                    tmp.append(each1) #appends the node to tmp and infected when it satisfies the above if condition\n",
    "                    infected.append(each1)\n",
    "        jst_inf = list(tmp)\n",
    "        #print(len(infected),len(jst_inf))\n",
    "        itera = itera+1\n",
    "    return ([len(infected),itera])#returns the number of infected nodes"
   ]
  },
  {
   "cell_type": "code",
   "execution_count": null,
   "metadata": {},
   "outputs": [],
   "source": [
    "#ic(G,[1])"
   ]
  },
  {
   "cell_type": "code",
   "execution_count": null,
   "metadata": {},
   "outputs": [],
   "source": [
    "# get node indices\n",
    "#nodes = []\n",
    "#for x in G.vs.indices:\n",
    "#    nodes.append(x)"
   ]
  },
  {
   "cell_type": "markdown",
   "metadata": {},
   "source": [
    "### Execute the following line with varying range"
   ]
  },
  {
   "cell_type": "code",
   "execution_count": null,
   "metadata": {},
   "outputs": [],
   "source": [
    "res = []\n",
    "wb = Workbook() \n",
    "sheet1 = wb.add_sheet('Sheet 1')\n",
    "a,b = [0,4039]\n",
    "for i in range(a,b):\n",
    "    res.append([ic(G,[i]) for x in range(0,10)])\n",
    "    print(i,res[-1])\n",
    "    sheet1.write(i-a, 0, i)\n",
    "    sheet1.write(i-a, 1, k[i])\n",
    "    for j in range(0,len(res[i-a])):\n",
    "        sheet1.write(i-a, j+2, res[i-a][j][0])\n",
    "        sheet1.write(i-a, j+12, res[i-a][j][1])\n",
    "wb.save('results.xls')\n"
   ]
  }
 ],
 "metadata": {
  "kernelspec": {
   "display_name": "Python 3",
   "language": "python",
   "name": "python3"
  },
  "language_info": {
   "codemirror_mode": {
    "name": "ipython",
    "version": 3
   },
   "file_extension": ".py",
   "mimetype": "text/x-python",
   "name": "python",
   "nbconvert_exporter": "python",
   "pygments_lexer": "ipython3",
   "version": "3.7.9"
  }
 },
 "nbformat": 4,
 "nbformat_minor": 4
}
