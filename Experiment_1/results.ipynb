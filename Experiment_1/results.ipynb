{
 "cells": [
  {
   "cell_type": "code",
   "execution_count": null,
   "metadata": {},
   "outputs": [],
   "source": [
    "import pandas as pd\n",
    "import numpy as np\n",
    "import matplotlib.pyplot as plt"
   ]
  },
  {
   "cell_type": "code",
   "execution_count": null,
   "metadata": {},
   "outputs": [],
   "source": [
    "df = pd.read_excel('final.xlsx')"
   ]
  },
  {
   "cell_type": "code",
   "execution_count": null,
   "metadata": {},
   "outputs": [],
   "source": [
    "df"
   ]
  },
  {
   "cell_type": "code",
   "execution_count": null,
   "metadata": {},
   "outputs": [],
   "source": [
    "df.columns"
   ]
  },
  {
   "cell_type": "code",
   "execution_count": null,
   "metadata": {},
   "outputs": [],
   "source": [
    "df['avg_cascading'] = df[['cas_1', 'cas_2', 'cas_3', 'cas_4', 'cas_5','cas_6', 'cas_7', 'cas_8', 'cas_9', 'cas_10']].mean(axis=1)\n",
    "df['std_cascading'] = df[['cas_1', 'cas_2', 'cas_3', 'cas_4', 'cas_5','cas_6', 'cas_7', 'cas_8', 'cas_9', 'cas_10']].std(axis=1)"
   ]
  },
  {
   "cell_type": "code",
   "execution_count": null,
   "metadata": {},
   "outputs": [],
   "source": [
    "df['avg_iter'] = df[['iter_1', 'iter_2','iter_3', 'iter_4', 'iter_5', 'iter_6', 'iter_7', 'iter_8', 'iter_9','iter_10']].mean(axis=1)\n",
    "df['std_iter'] = df[['iter_1', 'iter_2','iter_3', 'iter_4', 'iter_5', 'iter_6', 'iter_7', 'iter_8', 'iter_9','iter_10']].std(axis=1)"
   ]
  },
  {
   "cell_type": "code",
   "execution_count": null,
   "metadata": {},
   "outputs": [],
   "source": [
    "df.head()"
   ]
  },
  {
   "cell_type": "code",
   "execution_count": null,
   "metadata": {},
   "outputs": [],
   "source": [
    "df.columns"
   ]
  },
  {
   "cell_type": "code",
   "execution_count": null,
   "metadata": {},
   "outputs": [],
   "source": [
    "avg = df.groupby('shell_number').mean()['avg_cascading']\n",
    "std = df.groupby('shell_number').std()['std_cascading']/2\n",
    "shells = list(set(df['shell_number']))"
   ]
  },
  {
   "cell_type": "code",
   "execution_count": null,
   "metadata": {},
   "outputs": [],
   "source": [
    "plt.figure(figsize=(15,5))\n",
    "plt.plot(avg,label = 'Average Cascading')\n",
    "#plt.plot(t['Shell_index'],t['CStddev'],label = 'Cascading Stddev')\n",
    "#plt.plot(t['Shell_index'],t['Avg cascading'])\n",
    "plt.fill_between(shells,avg+std,avg-std,alpha=0.5)\n",
    "plt.xlabel('Shell index')\n",
    "plt.ylabel('Cascading power')\n",
    "plt.xticks(ticks=shells,rotation=90)\n",
    "plt.title('Cascading power plot')\n",
    "plt.legend()"
   ]
  },
  {
   "cell_type": "code",
   "execution_count": null,
   "metadata": {},
   "outputs": [],
   "source": [
    "tavg = df.groupby('shell_number').mean()['avg_iter']\n",
    "tstd = df.groupby('shell_number').std()['std_iter']/2"
   ]
  },
  {
   "cell_type": "code",
   "execution_count": null,
   "metadata": {},
   "outputs": [],
   "source": [
    "plt.figure(figsize=(15,5))\n",
    "plt.plot(tavg,label = 'Average Cascading')\n",
    "#plt.plot(t['Shell_index'],t['CStddev'],label = 'Cascading Stddev')\n",
    "#plt.plot(t['Shell_index'],t['Avg cascading'])\n",
    "plt.fill_between(shells,tavg+tstd,tavg-tstd,alpha=0.5)\n",
    "plt.xlabel('Shell index')\n",
    "plt.ylabel('Iterations')\n",
    "plt.xticks(ticks=shells,rotation=90)\n",
    "plt.title('Cascading power plot')\n",
    "plt.legend()"
   ]
  },
  {
   "cell_type": "code",
   "execution_count": null,
   "metadata": {},
   "outputs": [],
   "source": [
    "df[df['avg_cascading'] > 3900]['shell_number']"
   ]
  },
  {
   "cell_type": "code",
   "execution_count": null,
   "metadata": {},
   "outputs": [],
   "source": [
    "df[df['shell_number']==9]['avg_cascading']"
   ]
  }
 ],
 "metadata": {
  "kernelspec": {
   "display_name": "Python 3",
   "language": "python",
   "name": "python3"
  },
  "language_info": {
   "codemirror_mode": {
    "name": "ipython",
    "version": 3
   },
   "file_extension": ".py",
   "mimetype": "text/x-python",
   "name": "python",
   "nbconvert_exporter": "python",
   "pygments_lexer": "ipython3",
   "version": "3.7.9"
  }
 },
 "nbformat": 4,
 "nbformat_minor": 4
}
